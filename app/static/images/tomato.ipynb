{
 "cells": [
  {
   "cell_type": "code",
   "execution_count": 0,
   "metadata": {
    "collapsed": false
   },
   "outputs": [
   ],
   "source": [
   ]
  }
 ],
 "metadata": {
  "kernelspec": {
   "display_name": "Python (cv_env)",
   "language": "python",
   "metadata": {
    "debugger": true
   },
   "name": "cv_env",
   "resource_dir": "/projects/a79f6830-9488-4b6a-a583-e70d38dfea5d/.local/share/jupyter/kernels/cv_env"
  }
 },
 "nbformat": 4,
 "nbformat_minor": 4
}